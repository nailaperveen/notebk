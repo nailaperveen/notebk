{
 "cells": [
  {
   "cell_type": "code",
   "execution_count": 1,
   "metadata": {
    "collapsed": false
   },
   "outputs": [
    {
     "name": "stdout",
     "output_type": "stream",
     "text": [
      "Files: 87\n"
     ]
    }
   ],
   "source": [
    "import os\n",
    "count=0\n",
    "for(dirname, dirs, files) in os.walk('.'):\n",
    "    for filename in files:\n",
    "        if filename.endswith('.txt'):\n",
    "            count=count+1\n",
    "print 'Files:', count"
   ]
  },
  {
   "cell_type": "code",
   "execution_count": 14,
   "metadata": {
    "collapsed": false
   },
   "outputs": [
    {
     "name": "stdout",
     "output_type": "stream",
     "text": [
      "iPhone: ./b.txt\n"
     ]
    }
   ],
   "source": [
    "import os\n",
    "from os.path import join\n",
    "for (dirname, dirs, files) in os.walk('.'):\n",
    "   for filename in files:\n",
    "       if filename.endswith('.txt') :\n",
    "           thefile = os.path.join(dirname,filename)\n",
    "           size = os.path.getsize(thefile)\n",
    "           if size == 2578 or size == 2565:\n",
    "               print 'T-Mobile:',thefile\n",
    "               continue\n",
    "           fhand = open(thefile,'r')\n",
    "           lines = list()\n",
    "           for line in fhand:\n",
    "               lines.append(line)\n",
    "           fhand.close()\n",
    "           if len(lines) == 3 and lines[2].startswith('Sent from my iPhone'):\n",
    "               print 'iPhone:', thefile\n",
    "               os.remove(thefile)\n",
    "               continue"
   ]
  },
  {
   "cell_type": "code",
   "execution_count": 29,
   "metadata": {
    "collapsed": false
   },
   "outputs": [
    {
     "name": "stdout",
     "output_type": "stream",
     "text": [
      "enter file name. should be in quotes..'a.txt'\n",
      "a.txt\n",
      "27\n",
      "sd\n",
      "df\n",
      "Sent from my iPhone\n",
      "\n",
      "\n"
     ]
    }
   ],
   "source": [
    "import sys\n",
    "import os\n",
    "from os.path import join\n",
    "#''''''fil = sys.argv[1]\n",
    "f = input(\"enter file name. should be in quotes..\")\n",
    "print f\n",
    "fhandle = open(f,'r')\n",
    "a = fhandle.read()\n",
    "print len(a)\n",
    "print a\n",
    "\n"
   ]
  },
  {
   "cell_type": "code",
   "execution_count": 89,
   "metadata": {
    "collapsed": false
   },
   "outputs": [
    {
     "name": "stdout",
     "output_type": "stream",
     "text": [
      "From: inside\n"
     ]
    }
   ],
   "source": [
    "fhand = open('a.txt')\n",
    "for line in fhand:\n",
    "    line = line.rstrip()\n",
    "    # Skip 'uninteresting lines'\n",
    "    if not line.startswith('From:') :\n",
    "        continue\n",
    "    # Process our 'interesting' line\n",
    "    #if line.find('@uct.ac.za') == -1 : \n",
    "       # continue\n",
    "    print line"
   ]
  },
  {
   "cell_type": "code",
   "execution_count": 30,
   "metadata": {
    "collapsed": false
   },
   "outputs": [
    {
     "name": "stdout",
     "output_type": "stream",
     "text": [
      "enter file name'a.txt'\n",
      "a.txt\n",
      "27\n",
      "sd\n",
      "df\n",
      "Sent from my iPhone\n",
      "\n",
      "\n"
     ]
    }
   ],
   "source": [
    "\n",
    "exec(In[18])"
   ]
  },
  {
   "cell_type": "code",
   "execution_count": 35,
   "metadata": {
    "collapsed": false
   },
   "outputs": [
    {
     "name": "stdout",
     "output_type": "stream",
     "text": [
      "ok\n"
     ]
    }
   ],
   "source": [
    "#creating a run time directory\n",
    "request_number = 8263\n",
    "_dir = \"Current\"\n",
    "_dir = os.path.join(_dir, 'Attach%s' % request_number)\n",
    "if not os.path.exists(_dir):\n",
    "    os.makedirs(_dir)\n",
    "    print \"ok\"\n",
    "else:\n",
    "    print \"dir exists\""
   ]
  },
  {
   "cell_type": "code",
   "execution_count": 3,
   "metadata": {
    "collapsed": false
   },
   "outputs": [
    {
     "name": "stdout",
     "output_type": "stream",
     "text": [
      "Could not convert data to an integer.\n"
     ]
    }
   ],
   "source": [
    "import sys\n",
    "\n",
    "try:\n",
    "    f = open('myfile.txt')\n",
    "    s = f.readline()\n",
    "    i = int(s.strip())\n",
    "except OSError as err:\n",
    "    print(\"OS error: {0}\".format(err))\n",
    "except ValueError:\n",
    "    print(\"Could not convert data to an integer.\")\n",
    "except:\n",
    "    print(\"Unexpected error:\", sys.exc_info()[0])\n",
    "    raise"
   ]
  },
  {
   "cell_type": "code",
   "execution_count": null,
   "metadata": {
    "collapsed": true
   },
   "outputs": [],
   "source": [
    "for arg in sys.argv[1:]:\n",
    "    try:\n",
    "        f = open(arg, 'r')\n",
    "    except IOError:\n",
    "        print('cannot open', arg)\n",
    "    else:\n",
    "        print(arg, 'has', len(f.readlines()), 'lines')\n",
    "        f.close()"
   ]
  },
  {
   "cell_type": "code",
   "execution_count": 11,
   "metadata": {
    "collapsed": false
   },
   "outputs": [
    {
     "ename": "IndentationError",
     "evalue": "unindent does not match any outer indentation level (<ipython-input-11-75734d6a92ef>, line 8)",
     "output_type": "error",
     "traceback": [
      "\u001b[1;36m  File \u001b[1;32m\"<ipython-input-11-75734d6a92ef>\"\u001b[1;36m, line \u001b[1;32m8\u001b[0m\n\u001b[1;33m    def do_local():\u001b[0m\n\u001b[1;37m                   ^\u001b[0m\n\u001b[1;31mIndentationError\u001b[0m\u001b[1;31m:\u001b[0m unindent does not match any outer indentation level\n"
     ]
    }
   ],
   "source": [
    "#!/usr/bin/python\n",
    "def scope_test():\n",
    "    \n",
    "     def do_nonlocal():\n",
    "        nonlocal spam\n",
    "        spam = \"nonlocal spam\"\n",
    "        \n",
    "    def do_local():\n",
    "        spam = \"local spam\"\n",
    "   \n",
    "    def do_global():\n",
    "        global spam\n",
    "        spam = \"global spam\"\n",
    "    spam = \"test spam\"\n",
    "    do_local()\n",
    "    print(\"After local assignment:\", spam)\n",
    "    do_nonlocal()\n",
    "    print(\"After nonlocal assignment:\", spam)\n",
    "    do_global()\n",
    "    print(\"After global assignment:\", spam)\n",
    "\n",
    "scope_test()\n",
    "print(\"In global scope:\", spam)"
   ]
  },
  {
   "cell_type": "code",
   "execution_count": 68,
   "metadata": {
    "collapsed": false
   },
   "outputs": [
    {
     "data": {
      "text/plain": [
       "1"
      ]
     },
     "execution_count": 68,
     "metadata": {},
     "output_type": "execute_result"
    }
   ],
   "source": [
    "import subprocess\n",
    "#import shlex\n",
    "#subprocess.call(shlex.split('./ex1 param1 param2'))\n",
    "subprocess.call(['./ex3.sh']) "
   ]
  },
  {
   "cell_type": "code",
   "execution_count": 71,
   "metadata": {
    "collapsed": false
   },
   "outputs": [
    {
     "name": "stdout",
     "output_type": "stream",
     "text": [
      "hi\n"
     ]
    }
   ],
   "source": [
    "os.system(\"./ex3.sh\")\n",
    "print \"hi\""
   ]
  },
  {
   "cell_type": "code",
   "execution_count": 132,
   "metadata": {
    "collapsed": false
   },
   "outputs": [],
   "source": [
    "def mymodule1():\n",
    "\n",
    "    def main():\n",
    "        print \"form main inside mymodule1\"\n",
    "    \n",
    "    \n",
    "\n",
    "def mymodule2():\n",
    "\n",
    "    def main():\n",
    "        print \"form main inside mymodule2\"\n",
    "    \n"
   ]
  },
  {
   "cell_type": "code",
   "execution_count": 133,
   "metadata": {
    "collapsed": false
   },
   "outputs": [
    {
     "ename": "ImportError",
     "evalue": "No module named mymodule1",
     "output_type": "error",
     "traceback": [
      "\u001b[1;31m---------------------------------------------------------------------------\u001b[0m",
      "\u001b[1;31mImportError\u001b[0m                               Traceback (most recent call last)",
      "\u001b[1;32m<ipython-input-133-c8be85bf0ba2>\u001b[0m in \u001b[0;36m<module>\u001b[1;34m()\u001b[0m\n\u001b[0;32m      4\u001b[0m \u001b[1;32mimport\u001b[0m \u001b[0msys\u001b[0m\u001b[1;33m\u001b[0m\u001b[0m\n\u001b[0;32m      5\u001b[0m \u001b[1;33m\u001b[0m\u001b[0m\n\u001b[1;32m----> 6\u001b[1;33m \u001b[1;32mimport\u001b[0m \u001b[0mmymodule1\u001b[0m \u001b[1;32mas\u001b[0m \u001b[0mm1\u001b[0m\u001b[1;33m\u001b[0m\u001b[0m\n\u001b[0m\u001b[0;32m      7\u001b[0m \u001b[1;32mimport\u001b[0m \u001b[0mmymodule2\u001b[0m \u001b[1;32mas\u001b[0m \u001b[0mm2\u001b[0m\u001b[1;33m\u001b[0m\u001b[0m\n\u001b[0;32m      8\u001b[0m \u001b[1;33m\u001b[0m\u001b[0m\n",
      "\u001b[1;31mImportError\u001b[0m: No module named mymodule1"
     ]
    }
   ],
   "source": [
    "#! /usr/bin/env python\n",
    "\n",
    "from scriptine import run, path, log\n",
    "import sys\n",
    "\n",
    "import mymodule1 as m1\n",
    "import mymodule2 as m2\n",
    "\n",
    "def load_command():\n",
    "    '''\n",
    "    Load something\n",
    "    '''\n",
    "    m1.main()\n",
    "\n",
    "def exec_command():\n",
    "    '''\n",
    "    Exec something\n",
    "    '''\n",
    "    m2.main()\n",
    "\n",
    "if __name__ == '__main__':\n",
    "    run()"
   ]
  },
  {
   "cell_type": "code",
   "execution_count": 91,
   "metadata": {
    "collapsed": false
   },
   "outputs": [
    {
     "name": "stdout",
     "output_type": "stream",
     "text": [
      "Enter the file name:a.txt\n",
      "There were 1 subject lines in a.txt\n"
     ]
    }
   ],
   "source": [
    "fname = raw_input(\"Enter the file name:\")\n",
    "try:\n",
    "    fhand=open(fname)\n",
    "except:\n",
    "    print 'file cant open', fname\n",
    "    exit()\n",
    "count = 0\n",
    "for line in fhand:\n",
    "    if line.startswith('From'):\n",
    "        count = count + 1\n",
    "print \"There were\",count, \"subject lines in\",fname"
   ]
  },
  {
   "cell_type": "code",
   "execution_count": 92,
   "metadata": {
    "collapsed": false
   },
   "outputs": [
    {
     "name": "stdout",
     "output_type": "stream",
     "text": [
      "<open file 'output.txt', mode 'w' at 0x7fc158079930>\n"
     ]
    }
   ],
   "source": [
    "fout = open(\"output.txt\",\"w\")\n",
    "print fout"
   ]
  },
  {
   "cell_type": "code",
   "execution_count": 93,
   "metadata": {
    "collapsed": true
   },
   "outputs": [],
   "source": [
    "line1 = \"the battle starts\"\n",
    "fout.write(line1)"
   ]
  },
  {
   "cell_type": "code",
   "execution_count": 94,
   "metadata": {
    "collapsed": true
   },
   "outputs": [],
   "source": [
    "line2 = \"this is our land\"\n",
    "fout.write(line2)"
   ]
  },
  {
   "cell_type": "code",
   "execution_count": 96,
   "metadata": {
    "collapsed": false
   },
   "outputs": [],
   "source": [
    "fout.close()\n"
   ]
  },
  {
   "cell_type": "code",
   "execution_count": 103,
   "metadata": {
    "collapsed": false
   },
   "outputs": [
    {
     "name": "stdout",
     "output_type": "stream",
     "text": [
      "<open file 'a.txt', mode 'r' at 0x7fc158079e40>\n"
     ]
    }
   ],
   "source": [
    "fhand=open(fname)\n",
    "print fhand"
   ]
  },
  {
   "cell_type": "code",
   "execution_count": 104,
   "metadata": {
    "collapsed": false
   },
   "outputs": [
    {
     "name": "stdout",
     "output_type": "stream",
     "text": [
      "sd\n",
      "\n",
      "df\n",
      "\n",
      "From: inside\n",
      "\n",
      "Sent from my iPhone\n",
      "\n",
      "\n",
      "\n",
      "\n",
      "\n"
     ]
    }
   ],
   "source": [
    "for line in fhand:\n",
    "    print line\n",
    "    "
   ]
  },
  {
   "cell_type": "code",
   "execution_count": 107,
   "metadata": {
    "collapsed": false
   },
   "outputs": [
    {
     "name": "stdout",
     "output_type": "stream",
     "text": [
      "1 2 \t 3\n",
      " 4\n",
      "'1 2 \\t 3\\n 4'\n"
     ]
    }
   ],
   "source": [
    "s = '1 2 \\t 3\\n 4'\n",
    "print s\n",
    "print repr(s)"
   ]
  },
  {
   "cell_type": "code",
   "execution_count": 110,
   "metadata": {
    "collapsed": false
   },
   "outputs": [
    {
     "name": "stdout",
     "output_type": "stream",
     "text": [
      "Monty\n",
      "Python\n",
      "Monty Python\n",
      "Monty Pyth\n",
      "on\n",
      "\n",
      "Ponty Python\n"
     ]
    }
   ],
   "source": [
    "s= \"Monty Python\"\n",
    "\n",
    "print s[0:5]\n",
    "print s[6:13]\n",
    "print s[:13]\n",
    "print s[:10]\n",
    "print s[10:]\n",
    "print s[10:10]\n",
    "print \"P\"  + s[1:]"
   ]
  },
  {
   "cell_type": "code",
   "execution_count": 111,
   "metadata": {
    "collapsed": false
   },
   "outputs": [
    {
     "name": "stdout",
     "output_type": "stream",
     "text": [
      "3\n"
     ]
    }
   ],
   "source": [
    "count=0\n",
    "word=\"banana\"\n",
    "for letter in word:\n",
    "    if letter==\"a\":\n",
    "        count = count+1\n",
    "print count"
   ]
  },
  {
   "cell_type": "code",
   "execution_count": 112,
   "metadata": {
    "collapsed": false
   },
   "outputs": [
    {
     "data": {
      "text/plain": [
       "['__add__',\n",
       " '__class__',\n",
       " '__contains__',\n",
       " '__delattr__',\n",
       " '__doc__',\n",
       " '__eq__',\n",
       " '__format__',\n",
       " '__ge__',\n",
       " '__getattribute__',\n",
       " '__getitem__',\n",
       " '__getnewargs__',\n",
       " '__getslice__',\n",
       " '__gt__',\n",
       " '__hash__',\n",
       " '__init__',\n",
       " '__le__',\n",
       " '__len__',\n",
       " '__lt__',\n",
       " '__mod__',\n",
       " '__mul__',\n",
       " '__ne__',\n",
       " '__new__',\n",
       " '__reduce__',\n",
       " '__reduce_ex__',\n",
       " '__repr__',\n",
       " '__rmod__',\n",
       " '__rmul__',\n",
       " '__setattr__',\n",
       " '__sizeof__',\n",
       " '__str__',\n",
       " '__subclasshook__',\n",
       " '_formatter_field_name_split',\n",
       " '_formatter_parser',\n",
       " 'capitalize',\n",
       " 'center',\n",
       " 'count',\n",
       " 'decode',\n",
       " 'encode',\n",
       " 'endswith',\n",
       " 'expandtabs',\n",
       " 'find',\n",
       " 'format',\n",
       " 'index',\n",
       " 'isalnum',\n",
       " 'isalpha',\n",
       " 'isdigit',\n",
       " 'islower',\n",
       " 'isspace',\n",
       " 'istitle',\n",
       " 'isupper',\n",
       " 'join',\n",
       " 'ljust',\n",
       " 'lower',\n",
       " 'lstrip',\n",
       " 'partition',\n",
       " 'replace',\n",
       " 'rfind',\n",
       " 'rindex',\n",
       " 'rjust',\n",
       " 'rpartition',\n",
       " 'rsplit',\n",
       " 'rstrip',\n",
       " 'split',\n",
       " 'splitlines',\n",
       " 'startswith',\n",
       " 'strip',\n",
       " 'swapcase',\n",
       " 'title',\n",
       " 'translate',\n",
       " 'upper',\n",
       " 'zfill']"
      ]
     },
     "execution_count": 112,
     "metadata": {},
     "output_type": "execute_result"
    }
   ],
   "source": [
    "stuff=\"hello\"\n",
    "type(stuff)\n",
    "dir(stuff)"
   ]
  },
  {
   "cell_type": "code",
   "execution_count": 123,
   "metadata": {
    "collapsed": false
   },
   "outputs": [
    {
     "name": "stdout",
     "output_type": "stream",
     "text": [
      "False\n",
      "Hello\n",
      "HELLO\n"
     ]
    }
   ],
   "source": [
    "print stuff.isupper()\n",
    "abc =  stuff.capitalize()\n",
    "nwabc = stuff.upper()\n",
    "print abc\n",
    "print nwabc"
   ]
  },
  {
   "cell_type": "code",
   "execution_count": 154,
   "metadata": {
    "collapsed": false
   },
   "outputs": [
    {
     "data": {
      "text/plain": [
       "[(4, 'four'), (1, 'one'), (3, 'three'), (2, 'two')]"
      ]
     },
     "execution_count": 154,
     "metadata": {},
     "output_type": "execute_result"
    }
   ],
   "source": [
    "# list of pair\n",
    "pairs = [(1, 'one'), (2, 'two'), (3, 'three'), (4, 'four')]\n",
    "pairs.sort(key=lambda pair: pair[1])\n",
    "pairs"
   ]
  },
  {
   "cell_type": "code",
   "execution_count": 155,
   "metadata": {
    "collapsed": false
   },
   "outputs": [
    {
     "name": "stdout",
     "output_type": "stream",
     "text": [
      " Do nothing, \n",
      "    but document\n",
      "    it not \n"
     ]
    }
   ],
   "source": [
    "# multi line strings starts with triple quotes\n",
    "def my_function():\n",
    "    \"\"\" Do nothing, \n",
    "    but document\n",
    "    it not \"\"\"\n",
    "    pass\n",
    "print(my_function.__doc__)"
   ]
  },
  {
   "cell_type": "code",
   "execution_count": 156,
   "metadata": {
    "collapsed": false
   },
   "outputs": [
    {
     "data": {
      "text/plain": [
       "[(1, 3), (1, 4), (2, 3), (2, 1), (2, 4), (3, 1), (3, 4)]"
      ]
     },
     "execution_count": 156,
     "metadata": {},
     "output_type": "execute_result"
    }
   ],
   "source": [
    "[(x, y) for x in [1,2,3] for y in [3,1,4] if x != y]\n"
   ]
  },
  {
   "cell_type": "code",
   "execution_count": 164,
   "metadata": {
    "collapsed": false
   },
   "outputs": [
    {
     "data": {
      "text/plain": [
       "[-8, -4, 0, 4, 8]"
      ]
     },
     "execution_count": 164,
     "metadata": {},
     "output_type": "execute_result"
    }
   ],
   "source": [
    "vec = [-4, -2, 0, 2, 4]\n",
    ">>> # create a new list with the values doubled\n",
    "[x*2 for x in vec]\n",
    "\n"
   ]
  },
  {
   "cell_type": "code",
   "execution_count": 167,
   "metadata": {
    "collapsed": false
   },
   "outputs": [
    {
     "data": {
      "text/plain": [
       "[(0, 0), (1, 1), (2, 4), (3, 9), (4, 16), (5, 25)]"
      ]
     },
     "execution_count": 167,
     "metadata": {},
     "output_type": "execute_result"
    }
   ],
   "source": [
    "[x for x in vec if x >= 0]\n",
    "[0, 2, 4]\n",
    "# apply a function to all the elements\n",
    "[abs(x) for x in vec]\n",
    "[4, 2, 0, 2, 4]\n",
    "# call a method on each element\n",
    "freshfruit = ['  banana', '  loganberry ', 'passion fruit  ']\n",
    "[weapon.strip() for weapon in freshfruit]\n",
    "['banana', 'loganberry', 'passion fruit']\n",
    " # create a list of 2-tuples like (number, square)\n",
    "[(x, x**2) for x in range(6)]\n",
    "[(0, 0), (1, 1), (2, 4), (3, 9), (4, 16), (5, 25)]\n",
    " # the tuple must be parenthesized, otherwise an error is raised\n",
    "[(x, x**2) for x in range(6)]\n"
   ]
  },
  {
   "cell_type": "code",
   "execution_count": 163,
   "metadata": {
    "collapsed": false
   },
   "outputs": [
    {
     "data": {
      "text/plain": [
       "[1, 2, 3, 4, 5, 6, 7, 8, 9]"
      ]
     },
     "execution_count": 163,
     "metadata": {},
     "output_type": "execute_result"
    }
   ],
   "source": [
    "\n",
    "vec = [[1,2,3], [4,5,6], [7,8,9]]\n",
    "[num for elem in vec for num in elem]"
   ]
  },
  {
   "cell_type": "code",
   "execution_count": 3,
   "metadata": {
    "collapsed": false
   },
   "outputs": [
    {
     "data": {
      "text/plain": [
       "str"
      ]
     },
     "execution_count": 3,
     "metadata": {},
     "output_type": "execute_result"
    }
   ],
   "source": [
    "sbet_file = open('sample.sbet')\n",
    "sbet_data = sbet_file.read()\n",
    "type(sbet_data)\n"
   ]
  },
  {
   "cell_type": "code",
   "execution_count": 152,
   "metadata": {
    "collapsed": false
   },
   "outputs": [
    {
     "data": {
      "text/plain": [
       "22712"
      ]
     },
     "execution_count": 152,
     "metadata": {},
     "output_type": "execute_result"
    }
   ],
   "source": [
    "len(sbet_data)"
   ]
  },
  {
   "cell_type": "code",
   "execution_count": 146,
   "metadata": {
    "collapsed": false
   },
   "outputs": [
    {
     "data": {
      "text/plain": [
       "(334959.0048233234,)"
      ]
     },
     "execution_count": 146,
     "metadata": {},
     "output_type": "execute_result"
    }
   ],
   "source": [
    "import struct\n",
    "import math\n",
    "struct.unpack('d',sbet_data[0:8])\n",
    "\n"
   ]
  },
  {
   "cell_type": "code",
   "execution_count": 141,
   "metadata": {
    "collapsed": false
   },
   "outputs": [
    {
     "data": {
      "text/plain": [
       "334959.0048233234"
      ]
     },
     "execution_count": 141,
     "metadata": {},
     "output_type": "execute_result"
    }
   ],
   "source": [
    "struct.unpack('d',sbet_data[0:8])[0]"
   ]
  },
  {
   "cell_type": "code",
   "execution_count": 171,
   "metadata": {
    "collapsed": false
   },
   "outputs": [
    {
     "data": {
      "text/plain": [
       "(1.0549522638507869, -2.559965741819528, 12.826300557342815)"
      ]
     },
     "execution_count": 171,
     "metadata": {},
     "output_type": "execute_result"
    }
   ],
   "source": [
    "struct.unpack('ddd',sbet_data[8:32])"
   ]
  },
  {
   "cell_type": "code",
   "execution_count": 147,
   "metadata": {
    "collapsed": false
   },
   "outputs": [
    {
     "data": {
      "text/plain": [
       "60.444312306421736"
      ]
     },
     "execution_count": 147,
     "metadata": {},
     "output_type": "execute_result"
    }
   ],
   "source": [
    "lat_rad, lon_rad = struct.unpack('dd',sbet_data[8:24])\n",
    "math.degrees(lat_rad)"
   ]
  },
  {
   "cell_type": "code",
   "execution_count": 148,
   "metadata": {
    "collapsed": false
   },
   "outputs": [
    {
     "data": {
      "text/plain": [
       "-146.6752327043359"
      ]
     },
     "execution_count": 148,
     "metadata": {},
     "output_type": "execute_result"
    }
   ],
   "source": [
    "math.degrees(lon_rad)"
   ]
  },
  {
   "cell_type": "code",
   "execution_count": 149,
   "metadata": {
    "collapsed": false
   },
   "outputs": [
    {
     "data": {
      "text/plain": [
       "[3, 4, 5]"
      ]
     },
     "execution_count": 149,
     "metadata": {},
     "output_type": "execute_result"
    }
   ],
   "source": [
    "list(range(3, 6)) \n"
   ]
  },
  {
   "cell_type": "code",
   "execution_count": 151,
   "metadata": {
    "collapsed": false
   },
   "outputs": [
    {
     "data": {
      "text/plain": [
       "[3, 4, 5]"
      ]
     },
     "execution_count": 151,
     "metadata": {},
     "output_type": "execute_result"
    }
   ],
   "source": [
    "args=[3,6]\n",
    "list(range(*args))"
   ]
  },
  {
   "cell_type": "code",
   "execution_count": 172,
   "metadata": {
    "collapsed": false
   },
   "outputs": [
    {
     "data": {
      "text/plain": [
       "(334959.0048233234,\n",
       " 1.0549522638507869,\n",
       " -2.559965741819528,\n",
       " 12.826300557342815,\n",
       " 10.437825046453915,\n",
       " 0.998228318178983,\n",
       " 0.18282804536664027,\n",
       " -0.0026283394812042344,\n",
       " 0.11416603057936824,\n",
       " -0.09985686530029529,\n",
       " -0.40154673926674145,\n",
       " -0.8249097558096672,\n",
       " -0.3413483211034812,\n",
       " 0.07018300645653144,\n",
       " 0.021320176833628756,\n",
       " 0.029000032024608147,\n",
       " -0.006807197876212325)"
      ]
     },
     "execution_count": 172,
     "metadata": {},
     "output_type": "execute_result"
    }
   ],
   "source": [
    "struct.unpack('17d',sbet_data[0:8*17])"
   ]
  },
  {
   "cell_type": "code",
   "execution_count": 6,
   "metadata": {
    "collapsed": false
   },
   "outputs": [
    {
     "data": {
      "text/plain": [
       "60.444312306421736"
      ]
     },
     "execution_count": 6,
     "metadata": {},
     "output_type": "execute_result"
    }
   ],
   "source": [
    "import struct\n",
    "import math\n",
    "field_names = ('time', 'latitude', 'longitude', 'altitude', \\\n",
    "          'x_vel', 'y_vel', 'z_vel', \\\n",
    "          'roll', 'pitch', 'platform_heading', 'wander_angle', \\\n",
    "          'x_acceleration', 'y_acceleration', 'z_acceleration', \\\n",
    "          'x_angular_rate', 'y_angular_rate', 'z_angular')\n",
    "\n",
    "values = struct.unpack('17d',sbet_data[0:8*17])\n",
    "\n",
    "# Crazy stuff happens here!\n",
    "sbet_values = dict(zip (field_names, values))\n",
    "\n",
    "# convert radians to degrees and put it in a new dictionary key\n",
    "sbet_values['lat_deg'] = math.degrees(sbet_values['latitude'])\n",
    "\n",
    "sbet_values['lat_deg']"
   ]
  },
  {
   "cell_type": "code",
   "execution_count": 7,
   "metadata": {
    "collapsed": false
   },
   "outputs": [
    {
     "name": "stdout",
     "output_type": "stream",
     "text": [
      "load or reload happening\n"
     ]
    }
   ],
   "source": [
    "print \"load or reload happening\"\n",
    "\n",
    "def decode():\n",
    "    print \"hello from decode\"\n",
    "    print 7*6\n",
    "\n",
    "def main():\n",
    "    print 'Starting main'\n",
    "    sbet_file = open('sample.sbet')\n",
    "    sbet_data = sbet_file.read()\n",
    "    print 'Finishing main'"
   ]
  },
  {
   "cell_type": "code",
   "execution_count": 12,
   "metadata": {
    "collapsed": false
   },
   "outputs": [
    {
     "name": "stdout",
     "output_type": "stream",
     "text": [
      "Starting main\n",
      "Finishing main\n"
     ]
    }
   ],
   "source": [
    "# load or reload happening\n",
    "main()\n"
   ]
  },
  {
   "cell_type": "code",
   "execution_count": null,
   "metadata": {
    "collapsed": true
   },
   "outputs": [],
   "source": []
  }
 ],
 "metadata": {
  "kernelspec": {
   "display_name": "Python 2",
   "language": "python",
   "name": "python2"
  },
  "language_info": {
   "codemirror_mode": {
    "name": "ipython",
    "version": 2
   },
   "file_extension": ".py",
   "mimetype": "text/x-python",
   "name": "python",
   "nbconvert_exporter": "python",
   "pygments_lexer": "ipython2",
   "version": "2.7.6"
  }
 },
 "nbformat": 4,
 "nbformat_minor": 0
}
